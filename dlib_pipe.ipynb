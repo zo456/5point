{
 "cells": [
  {
   "cell_type": "code",
   "execution_count": 1,
   "metadata": {},
   "outputs": [],
   "source": [
    "import os\n",
    "import cv2\n",
    "import numpy as np\n",
    "import matplotlib.pyplot as plt\n",
    "import dlib\n",
    "import natsort"
   ]
  },
  {
   "cell_type": "code",
   "execution_count": 2,
   "metadata": {},
   "outputs": [],
   "source": [
    "PREDICTOR_PATH = r\"shape_predictor_5_face_landmarks.dat\""
   ]
  },
  {
   "cell_type": "code",
   "execution_count": 3,
   "metadata": {},
   "outputs": [],
   "source": [
    "vid_path = os.listdir('./input/')[0]"
   ]
  },
  {
   "cell_type": "code",
   "execution_count": 6,
   "metadata": {},
   "outputs": [],
   "source": [
    "def FrameCap(path):\n",
    "    if not os.path.exists(f'./frames'):\n",
    "        os.makedirs('frames')\n",
    "    vid = cv2.VideoCapture(path)\n",
    "    cnt = 0\n",
    "    flag = 1\n",
    "    while flag:\n",
    "        flag, image = vid.read()\n",
    "        if image is not None:\n",
    "            cv2.imwrite(f'./frames/frame{cnt}.png', image)\n",
    "            cnt += 1\n",
    "        else:\n",
    "            flag = 0"
   ]
  },
  {
   "cell_type": "code",
   "execution_count": 7,
   "metadata": {},
   "outputs": [],
   "source": [
    "FrameCap('./input' + os.sep + vid_path)"
   ]
  },
  {
   "cell_type": "code",
   "execution_count": 8,
   "metadata": {},
   "outputs": [],
   "source": [
    "frame_list = natsort.natsorted(os.listdir(\"./frames/\"))"
   ]
  },
  {
   "cell_type": "code",
   "execution_count": 11,
   "metadata": {},
   "outputs": [],
   "source": [
    "predictor = dlib.shape_predictor(PREDICTOR_PATH)\n",
    "detector = dlib.get_frontal_face_detector()"
   ]
  },
  {
   "cell_type": "code",
   "execution_count": 12,
   "metadata": {},
   "outputs": [],
   "source": [
    "def fivePoints(filename):\n",
    "    img = cv2.imread(filename)\n",
    "    gray = cv2.cvtColor(img, cv2.COLOR_BGR2GRAY)\n",
    "    face = detector(gray, 1)\n",
    "    for result in face:\n",
    "        x = result.left()\n",
    "        y = result.top()\n",
    "        x1 = result.right()\n",
    "        y1 = result.bottom()\n",
    "        #cv2.rectangle(img, (x,y), (x1,y1), (0,255,255), 2)\n",
    "    rect = dlib.rectangle(int(x), int(y), int(x1), int(y1))\n",
    "    landmarks = np.matrix([[p.x, p.y] for p in predictor(img, rect).parts()])\n",
    "    return landmarks, img"
   ]
  },
  {
   "cell_type": "code",
   "execution_count": 13,
   "metadata": {},
   "outputs": [],
   "source": [
    "base = fivePoints('./frames' + os.sep + frame_list[0])[0]\n",
    "outer_base = np.float32(base[[0, 2, 4]])\n",
    "inner_base = np.float32(base[[1, 3, 4]])"
   ]
  },
  {
   "cell_type": "code",
   "execution_count": 14,
   "metadata": {},
   "outputs": [
    {
     "name": "stdout",
     "output_type": "stream",
     "text": [
      "frame228.png\n",
      "frame229.png\n",
      "frame230.png\n",
      "frame231.png\n",
      "frame232.png\n",
      "frame233.png\n"
     ]
    }
   ],
   "source": [
    "if not os.path.exists('./aligned_outer/'):\n",
    "    os.makedirs('aligned_outer')\n",
    "if not os.path.exists('./aligned_inner/'):\n",
    "    os.makedirs('aligned_inner')\n",
    "for item in frame_list:\n",
    "    try:\n",
    "        landmarks = fivePoints('./frames/' + os.sep + item)\n",
    "        img = landmarks[1]\n",
    "        landmarks = landmarks[0]\n",
    "        outer = np.float32(landmarks[[0, 2, 4]])\n",
    "        inner = np.float32(landmarks[[1, 3, 4]])\n",
    "        M_out = cv2.getAffineTransform(outer, outer_base)\n",
    "        M_in = cv2.getAffineTransform(inner, inner_base)\n",
    "        rows, cols, ch = img.shape\n",
    "        outer_img = cv2.warpAffine(img, M_out, (cols, rows))\n",
    "        inner_img = cv2.warpAffine(img, M_in, (cols, rows))\n",
    "        cv2.imwrite('./aligned_outer' + os.sep + item, outer_img)\n",
    "        cv2.imwrite('./aligned_inner' + os.sep + item, inner_img)\n",
    "    except:\n",
    "        print(item)"
   ]
  },
  {
   "cell_type": "code",
   "execution_count": 16,
   "metadata": {},
   "outputs": [],
   "source": [
    "out_align = []\n",
    "for filename in natsort.natsorted(os.listdir('./aligned_outer/')):\n",
    "    img = cv2.imread('./aligned_outer' + os.sep + filename)\n",
    "    out_align.append(img)\n",
    "\n",
    "out = cv2.VideoWriter('aligned_outer.avi', cv2.VideoWriter_fourcc(*'DIVX'), 15, (cols, rows))\n",
    "for i in range(len(out_align)):\n",
    "    out.write(out_align[i])\n",
    "    \n",
    "out.release()"
   ]
  },
  {
   "cell_type": "code",
   "execution_count": 17,
   "metadata": {},
   "outputs": [],
   "source": [
    "in_align = []\n",
    "for filename in natsort.natsorted(os.listdir('./aligned_inner/')):\n",
    "    img = cv2.imread('./aligned_inner' + os.sep + filename)\n",
    "    in_align.append(img)\n",
    "\n",
    "out = cv2.VideoWriter('aligned_inner.avi', cv2.VideoWriter_fourcc(*'DIVX'), 15, (cols, rows))\n",
    "for i in range(len(in_align)):\n",
    "    out.write(in_align[i])\n",
    "    \n",
    "out.release()"
   ]
  },
  {
   "cell_type": "code",
   "execution_count": null,
   "metadata": {},
   "outputs": [],
   "source": []
  }
 ],
 "metadata": {
  "kernelspec": {
   "display_name": "venv5point",
   "language": "python",
   "name": "python3"
  },
  "language_info": {
   "codemirror_mode": {
    "name": "ipython",
    "version": 3
   },
   "file_extension": ".py",
   "mimetype": "text/x-python",
   "name": "python",
   "nbconvert_exporter": "python",
   "pygments_lexer": "ipython3",
   "version": "3.8.10"
  }
 },
 "nbformat": 4,
 "nbformat_minor": 2
}
